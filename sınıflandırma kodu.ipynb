{
 "cells": [
  {
   "cell_type": "code",
   "execution_count": 132,
   "metadata": {},
   "outputs": [],
   "source": [
    "import os\n",
    "import os.path\n",
    "import sys\n",
    "import copy\n",
    "import string\n",
    "import numpy\n",
    "import sklearn.ensemble\n",
    "import sklearn.model_selection \n",
    "\n",
    "from gensim.models.word2vec import Word2Vec\n",
    "from multiprocessing import cpu_count\n",
    "\n",
    "\n",
    "\n"
   ]
  },
  {
   "cell_type": "code",
   "execution_count": 133,
   "metadata": {},
   "outputs": [],
   "source": [
    "input_folder_name = \"C:\\BBC-Merve\"\n",
    "categories = [\"business\", \"health\", \"politic\", \"tech\"]\n",
    "num_features = 511\n",
    "data_folder = 'C:\\\\semdoc\\\\data\\\\bbc\\\\'\n",
    "\n",
    "documents = []\n",
    "labels = []\n",
    "for i in range(len(categories)):\n",
    "    category_name = categories[i].upper()\n",
    "    folder_name = os.path.join(input_folder_name, category_name)\n",
    "    base_filenames = os.listdir(folder_name)\n",
    "    for j in range(len(base_filenames)):\n",
    "        base_filename = base_filenames[j]\n",
    "        filename = os.path.join(folder_name, base_filename)\n",
    "        \n",
    "        with open(filename, \"r\") as ifstr:\n",
    "            text = ifstr.read()\n",
    "        words = text.split()\n",
    "        documents.append(words)\n",
    "        \n",
    "        labels.append(i)        \n",
    "    \n",
    "    "
   ]
  },
  {
   "cell_type": "code",
   "execution_count": 134,
   "metadata": {},
   "outputs": [],
   "source": [
    "#documents[1]\n",
    "w2v_model = Word2Vec(documents, size=num_features, min_count=1, iter = 45, window=10, workers=cpu_count())\n",
    "w2v_model.init_sims(replace=True)\n",
    "w2v_model.save(data_folder + 'news.word2vec')\n"
   ]
  },
  {
   "cell_type": "code",
   "execution_count": 135,
   "metadata": {},
   "outputs": [
    {
     "name": "stderr",
     "output_type": "stream",
     "text": [
      "C:\\ProgramData\\Anaconda3\\lib\\site-packages\\ipykernel_launcher.py:18: DeprecationWarning: Call to deprecated `__contains__` (Method will be removed in 4.0.0, use self.wv.__contains__() instead).\n",
      "C:\\ProgramData\\Anaconda3\\lib\\site-packages\\ipykernel_launcher.py:19: DeprecationWarning: Call to deprecated `__getitem__` (Method will be removed in 4.0.0, use self.wv.__getitem__() instead).\n"
     ]
    }
   ],
   "source": [
    "num_categories = len(categories)\n",
    "number_of_documents = len(documents)\n",
    "X = numpy.zeros(shape=(number_of_documents, num_features)).astype(numpy.float32)\n",
    "Y = numpy.zeros(shape=(number_of_documents, 1)).astype(numpy.float32)\n",
    "\n",
    "empty_word = numpy.zeros(num_features).astype(numpy.float32)\n",
    "\n",
    "\n",
    "zero_vec = numpy.zeros(shape = (1, num_features) )\n",
    "for idx, document in enumerate(documents):\n",
    "    vec = copy.deepcopy(zero_vec)\n",
    "    n_words = 0\n",
    "    for jdx, word in enumerate(document):\n",
    "        #if jdx == document_max_num_words:\n",
    "        #    break\n",
    "            \n",
    "        #else:\n",
    "        if word in w2v_model:\n",
    "            vec += w2v_model[word]\n",
    "            #X[idx, jdx, :] = w2v_model[word]\n",
    "        else:\n",
    "            vec += empty_word\n",
    "            #X[idx, jdx, :] = empty_word\n",
    "        n_words += 1\n",
    "    vec /= n_words\n",
    "    X[idx, :] = copy.deepcopy(vec) \n",
    "    Y[idx, :] = labels[idx]\n",
    "            \n",
    "#for idx, key in enumerate(document_Y.keys()):\n",
    "#    Y[idx, :] = document_Y[key]"
   ]
  },
  {
   "cell_type": "code",
   "execution_count": 167,
   "metadata": {},
   "outputs": [],
   "source": [
    "model = sklearn.ensemble.GradientBoostingClassifier(n_estimators = 1023, learning_rate = 0.001)"
   ]
  },
  {
   "cell_type": "code",
   "execution_count": 168,
   "metadata": {},
   "outputs": [
    {
     "name": "stderr",
     "output_type": "stream",
     "text": [
      "C:\\ProgramData\\Anaconda3\\lib\\site-packages\\sklearn\\utils\\validation.py:578: DataConversionWarning: A column-vector y was passed when a 1d array was expected. Please change the shape of y to (n_samples, ), for example using ravel().\n",
      "  y = column_or_1d(y, warn=True)\n",
      "C:\\ProgramData\\Anaconda3\\lib\\site-packages\\sklearn\\utils\\validation.py:578: DataConversionWarning: A column-vector y was passed when a 1d array was expected. Please change the shape of y to (n_samples, ), for example using ravel().\n",
      "  y = column_or_1d(y, warn=True)\n",
      "C:\\ProgramData\\Anaconda3\\lib\\site-packages\\sklearn\\utils\\validation.py:578: DataConversionWarning: A column-vector y was passed when a 1d array was expected. Please change the shape of y to (n_samples, ), for example using ravel().\n",
      "  y = column_or_1d(y, warn=True)\n",
      "C:\\ProgramData\\Anaconda3\\lib\\site-packages\\sklearn\\utils\\validation.py:578: DataConversionWarning: A column-vector y was passed when a 1d array was expected. Please change the shape of y to (n_samples, ), for example using ravel().\n",
      "  y = column_or_1d(y, warn=True)\n",
      "C:\\ProgramData\\Anaconda3\\lib\\site-packages\\sklearn\\utils\\validation.py:578: DataConversionWarning: A column-vector y was passed when a 1d array was expected. Please change the shape of y to (n_samples, ), for example using ravel().\n",
      "  y = column_or_1d(y, warn=True)\n",
      "C:\\ProgramData\\Anaconda3\\lib\\site-packages\\sklearn\\utils\\validation.py:578: DataConversionWarning: A column-vector y was passed when a 1d array was expected. Please change the shape of y to (n_samples, ), for example using ravel().\n",
      "  y = column_or_1d(y, warn=True)\n"
     ]
    },
    {
     "name": "stdout",
     "output_type": "stream",
     "text": [
      "Accuracy: 0.505\n"
     ]
    }
   ],
   "source": [
    "model.fit(X, Y)\n",
    "model_selection_mdl = sklearn.model_selection\n",
    "scores = model_selection_mdl.cross_val_score(model, X, Y, cv=5)\n",
    "accuracy = scores.mean()\n",
    "print(\"Accuracy: %.3f\" % (accuracy))"
   ]
  },
  {
   "cell_type": "code",
   "execution_count": 16,
   "metadata": {},
   "outputs": [
    {
     "data": {
      "text/plain": [
       "[0, 0, 0, 0, 0, 0, 0, 0, 0, 0, 0, 0, 0, 0, 0, 0, 0]"
      ]
     },
     "execution_count": 16,
     "metadata": {},
     "output_type": "execute_result"
    }
   ],
   "source": [
    "labels[:17]"
   ]
  },
  {
   "cell_type": "code",
   "execution_count": 17,
   "metadata": {},
   "outputs": [
    {
     "data": {
      "text/plain": [
       "-0.04626331"
      ]
     },
     "execution_count": 17,
     "metadata": {},
     "output_type": "execute_result"
    }
   ],
   "source": [
    "X[0][0]"
   ]
  },
  {
   "cell_type": "code",
   "execution_count": 19,
   "metadata": {},
   "outputs": [
    {
     "data": {
      "text/plain": [
       "array([0., 0., 0., 0.], dtype=float32)"
      ]
     },
     "execution_count": 19,
     "metadata": {},
     "output_type": "execute_result"
    }
   ],
   "source": [
    "Y[0]"
   ]
  },
  {
   "cell_type": "code",
   "execution_count": 143,
   "metadata": {},
   "outputs": [
    {
     "data": {
      "text/plain": [
       "GradientBoostingClassifier(criterion='friedman_mse', init=None,\n",
       "              learning_rate=0.001, loss='deviance', max_depth=3,\n",
       "              max_features=None, max_leaf_nodes=None,\n",
       "              min_impurity_decrease=0.0, min_impurity_split=None,\n",
       "              min_samples_leaf=1, min_samples_split=2,\n",
       "              min_weight_fraction_leaf=0.0, n_estimators=1023,\n",
       "              presort='auto', random_state=None, subsample=1.0, verbose=0,\n",
       "              warm_start=False)"
      ]
     },
     "execution_count": 143,
     "metadata": {},
     "output_type": "execute_result"
    }
   ],
   "source": [
    "model"
   ]
  },
  {
   "cell_type": "code",
   "execution_count": 139,
   "metadata": {},
   "outputs": [
    {
     "data": {
      "text/plain": [
       "array([0.51724138, 0.55172414, 0.51851852, 0.5       , 0.44      ])"
      ]
     },
     "execution_count": 139,
     "metadata": {},
     "output_type": "execute_result"
    }
   ],
   "source": [
    "scores"
   ]
  },
  {
   "cell_type": "code",
   "execution_count": null,
   "metadata": {},
   "outputs": [],
   "source": []
  }
 ],
 "metadata": {
  "kernelspec": {
   "display_name": "Python 3",
   "language": "python",
   "name": "python3"
  },
  "language_info": {
   "codemirror_mode": {
    "name": "ipython",
    "version": 3
   },
   "file_extension": ".py",
   "mimetype": "text/x-python",
   "name": "python",
   "nbconvert_exporter": "python",
   "pygments_lexer": "ipython3",
   "version": "3.6.4"
  }
 },
 "nbformat": 4,
 "nbformat_minor": 2
}

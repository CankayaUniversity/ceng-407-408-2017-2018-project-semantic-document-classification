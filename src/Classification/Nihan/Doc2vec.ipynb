{
 "cells": [
  {
   "cell_type": "code",
   "execution_count": 62,
   "metadata": {},
   "outputs": [],
   "source": [
    "import os\n",
    "import os.path\n",
    "import sys\n",
    "import copy\n",
    "import string\n",
    "import numpy\n",
    "import sklearn.ensemble\n",
    "import sklearn.model_selection \n",
    "import sklearn.pipeline \n",
    "\n",
    "from gensim.models.word2vec import Word2Vec\n",
    "\n",
    "from multiprocessing import cpu_count\n",
    "\n",
    "from gensim.models import Doc2Vec\n",
    "from gensim.models.doc2vec import TaggedDocument\n",
    "\n",
    "from collections import namedtuple\n",
    "\n"
   ]
  },
  {
   "cell_type": "code",
   "execution_count": 63,
   "metadata": {},
   "outputs": [],
   "source": [
    "input_folder_name = \"C:\\\\bbc_insight\" \n",
    "categories = [\"business\", \"entertainment\", \"politics\", \"sport\", \"tech\"] \n",
    "\n",
    "\n",
    "# Word2Vec number of features\n",
    "num_features = 300\n",
    "# Newsline folder and format\n",
    "data_folder = 'C:\\\\semdoc\\\\data\\\\bbc\\\\'\n",
    "\n",
    "\n",
    "start_alpha=0.01\n",
    "\n",
    "infer_epoch=511\n",
    "\n",
    "vector_size = num_features\n",
    "\n",
    "window_size = 15\n",
    "\n",
    "min_count = 1\n",
    "\n",
    "sampling_threshold = 1e-5\n",
    "\n",
    "negative_size = 5\n",
    "\n",
    "train_epoch = 100\n",
    "\n",
    "dm = 0 #0 = dbow; 1 = dmpv\n",
    "\n",
    "worker_count = 1 #number of parallel processes\n",
    "\n",
    "documents = []\n",
    "labels = []\n",
    "# For doc2vec.\n",
    "tagged_documents = []\n",
    "for i in range(len(categories)):\n",
    "    category_name = categories[i]#categories[i].upper()\n",
    "    folder_name = os.path.join(input_folder_name, category_name)\n",
    "    base_filenames = os.listdir(folder_name)\n",
    "    for j in range(len(base_filenames)):\n",
    "        base_filename = base_filenames[j]\n",
    "        filename = os.path.join(folder_name, base_filename)\n",
    "        \n",
    "        with open(filename, \"r\") as ifstr:\n",
    "            text = ifstr.read()\n",
    "        words = text.split()\n",
    "        documents.append(words)\n",
    "        tagged_document = TaggedDocument(words, [i])\n",
    "        tagged_documents.append(tagged_document)\n",
    "        labels.append(i)        \n",
    "    \n",
    "    "
   ]
  },
  {
   "cell_type": "code",
   "execution_count": 64,
   "metadata": {},
   "outputs": [
    {
     "name": "stderr",
     "output_type": "stream",
     "text": [
      "C:\\ProgramData\\Anaconda3\\lib\\site-packages\\gensim-3.3.0-py3.6-win-amd64.egg\\gensim\\models\\doc2vec.py:355: UserWarning: The parameter `iter` is deprecated, will be removed in 4.0.0, use `epochs` instead.\n",
      "  warnings.warn(\"The parameter `iter` is deprecated, will be removed in 4.0.0, use `epochs` instead.\")\n",
      "C:\\ProgramData\\Anaconda3\\lib\\site-packages\\gensim-3.3.0-py3.6-win-amd64.egg\\gensim\\models\\doc2vec.py:359: UserWarning: The parameter `size` is deprecated, will be removed in 4.0.0, use `vector_size` instead.\n",
      "  warnings.warn(\"The parameter `size` is deprecated, will be removed in 4.0.0, use `vector_size` instead.\")\n"
     ]
    }
   ],
   "source": [
    "#doc2vec kısmı \n",
    "#d2v_model = Doc2Vec(alpha=0.025, min_alpha=0.025)  # use fixed learning rate\n",
    "#d2v_model.build_vocab(sentences)\n",
    "#for epoch in range(10):\n",
    "#    d2v_model.train(sentences)\n",
    "#    d2v_model.alpha -= 0.002  # decrease the learning rate\n",
    "#    d2v_model.min_alpha = d2v_model.alpha  # fix the learning rate, no decay\n",
    "d2v_model = Doc2Vec(tagged_documents, size=vector_size, window=window_size, min_count=min_count, sample=sampling_threshold, workers=worker_count, hs=0, dm=dm, negative=negative_size, dbow_words=1, dm_concat=1,  iter=train_epoch)\n",
    "d2v_model.save(data_folder + 'bbc_insight.doc2vec')\n",
    "\n",
    "#d2v_model = Doc2Vec(size = num_features, alpha=0.025, min_alpha=0.025)  # use fixed learning rate\n",
    "#d2v_model.build_vocab(tagged_documents)"
   ]
  },
  {
   "cell_type": "code",
   "execution_count": 66,
   "metadata": {},
   "outputs": [
    {
     "name": "stdout",
     "output_type": "stream",
     "text": [
      "[ 1.00580908e-01 -1.85163729e-02 -1.28635645e-01 -2.07279921e-01\n",
      "  3.23981076e-01 -8.99015144e-02  2.01788083e-01  4.17139195e-02\n",
      " -5.41324243e-02 -2.17137590e-01  5.38682304e-02  2.95345411e-02\n",
      " -1.46104962e-01 -4.58891168e-02 -4.51719500e-02 -2.54812241e-01\n",
      "  2.54250821e-02  2.52736896e-01  1.68476850e-01 -5.73144816e-02\n",
      " -2.49788359e-01 -2.22860053e-01 -1.83388725e-01 -6.85273781e-02\n",
      " -2.14069769e-01  7.66467601e-02  4.80848029e-02  8.88333842e-02\n",
      "  9.23575386e-02 -7.04932436e-02  9.85810906e-03  1.45978034e-01\n",
      "  1.31680518e-01 -2.64448106e-01  3.53234231e-01  1.74500316e-01\n",
      "  4.74480033e-01 -2.48010322e-01  3.41401041e-01 -2.47960649e-02\n",
      "  2.98951328e-01  4.37813960e-02 -4.20332141e-03 -2.47844636e-01\n",
      " -3.04268718e-01  1.85850993e-01 -9.60609764e-02 -2.34943524e-01\n",
      "  8.93947855e-02  2.34043062e-01 -5.96826430e-03 -2.75080115e-01\n",
      "  4.01240177e-02 -2.16789261e-01 -1.77443922e-01 -3.73681374e-02\n",
      "  2.02108964e-01  3.48654985e-01  1.17694467e-01  1.81725752e-02\n",
      "  3.27359378e-01 -7.22914189e-02 -8.87626633e-02  3.34084183e-01\n",
      " -1.38088882e-01  3.69349688e-01 -1.32487893e-01  1.01667926e-01\n",
      " -1.55701295e-01 -1.07322231e-01  2.52468176e-02 -4.73227985e-02\n",
      " -2.00438257e-02 -1.38671532e-01  6.24187551e-02  3.20317857e-02\n",
      " -9.51314121e-02 -3.65930214e-03 -3.87762003e-02  2.46124253e-01\n",
      " -3.33055332e-02 -4.88001145e-02 -1.46592140e-01  1.11017205e-01\n",
      " -4.75920677e-01 -2.65076626e-02 -3.56893778e-01  7.21445531e-02\n",
      " -9.24924165e-02 -5.60692213e-02  2.72245169e-01  6.91879482e-04\n",
      "  5.89162409e-02  6.99944049e-02  1.09575406e-01 -4.58425283e-02\n",
      "  3.12549435e-02  2.11893901e-01 -4.40761186e-02  1.71568021e-01\n",
      " -2.52955500e-02  1.32404089e-01 -4.73854691e-02  8.63195211e-02\n",
      "  2.58772939e-01 -2.43625492e-01 -7.30427131e-02 -9.55900326e-02\n",
      " -5.25585599e-02  3.49886656e-01  3.29823732e-01  1.50867894e-01\n",
      "  1.96150929e-01 -6.59966245e-02  4.05971482e-02  2.64804900e-01\n",
      "  2.35824555e-01  3.72306466e-01 -1.04893520e-01 -2.54559636e-01\n",
      "  1.07551903e-01 -1.12313375e-01 -1.15744889e-01  3.50071676e-02\n",
      " -5.35916090e-02  2.10083798e-01  2.60857761e-01 -1.80948213e-01\n",
      " -2.23267034e-01  2.14116618e-01  2.07688138e-01  2.08015889e-01\n",
      "  4.12783921e-01  1.22904263e-01  5.83330430e-02 -1.02276824e-01\n",
      " -1.91661581e-01 -1.18768057e-02 -1.82095677e-01  9.81714576e-03\n",
      "  1.66542336e-01  1.96409747e-01  1.03139073e-01  1.70598049e-02\n",
      "  6.28086403e-02 -2.31903598e-01  1.67800918e-01 -1.54199257e-01\n",
      " -1.72774598e-01  3.97762563e-03  1.97205544e-01  4.41148579e-02\n",
      "  3.02297980e-01 -2.53156692e-01 -2.10205615e-02 -2.23564431e-01\n",
      " -4.53147339e-03  3.79270732e-01 -1.33785829e-02 -1.37395889e-01\n",
      " -3.56384724e-01 -8.16450939e-02  9.60980505e-02 -5.84862605e-02\n",
      " -5.90912513e-02  2.55122989e-01 -2.38597587e-01 -9.74831581e-02\n",
      " -2.77013600e-01 -4.08430427e-01 -3.70118648e-01 -9.23037529e-02\n",
      "  2.42819767e-02  7.59100867e-03  2.84315765e-01  2.71698274e-02\n",
      "  2.56679356e-01  8.43368396e-02  1.23531539e-02 -2.44039416e-01\n",
      "  1.52230114e-01  1.25259444e-01 -2.42053475e-02  1.01283066e-01\n",
      "  6.99694082e-02  8.58783275e-02  3.32826339e-02 -5.51966345e-03\n",
      " -1.10949568e-01 -3.72640550e-01  1.04469259e-03 -1.73441514e-01\n",
      " -5.48735000e-02  2.79159725e-01 -2.75844187e-01  1.83002710e-01\n",
      "  3.17995369e-01 -9.87589583e-02 -1.01502135e-01  4.70342254e-03\n",
      " -3.18686634e-01  1.14519782e-01  6.61255121e-02 -1.34902954e-01\n",
      " -4.11706388e-01 -2.57512957e-01 -1.22119784e-01  5.93897961e-02\n",
      " -4.85229403e-01  2.26962455e-02  1.28616262e-02  1.40623406e-01\n",
      " -1.10746967e-02 -3.72618109e-01  2.11554766e-01  1.44833714e-01\n",
      "  2.97912164e-03 -6.78490773e-02 -4.03453618e-01 -4.70181070e-02\n",
      "  2.79323757e-01 -1.13320261e-01 -6.31433800e-02 -7.17959250e-04\n",
      " -1.80674151e-01  1.49315521e-01 -7.83679709e-02 -2.94263791e-02\n",
      "  7.83064868e-03  1.20079592e-01  1.98579296e-01 -3.14927399e-01\n",
      "  2.17971876e-01  7.12995976e-02  9.77760032e-02 -2.85017071e-04\n",
      " -1.36172343e-02  1.80567145e-01 -7.66450465e-02  1.24097340e-01\n",
      "  1.08794719e-01 -4.92468588e-02 -1.48896500e-01  3.92597109e-01\n",
      " -1.81880951e-01 -1.37609029e-02 -2.67863512e-01  3.73849459e-02\n",
      " -2.25675151e-01 -1.13867521e-01  1.25207618e-01 -4.93496843e-02\n",
      " -1.03528783e-01  3.45530927e-01 -9.96221676e-02 -1.27606392e-01\n",
      "  2.11068347e-01  1.17453307e-01 -7.00683147e-02  8.90609175e-02\n",
      " -1.28892079e-01 -2.22207770e-01 -4.32028659e-02  7.81912431e-02\n",
      " -1.81703717e-01  3.21413785e-01 -5.12331948e-02 -2.38680661e-01\n",
      " -1.96573555e-01  1.28639996e-01  2.38833904e-01 -9.46285389e-03\n",
      " -2.90653445e-02 -2.55509108e-01 -1.76781222e-01 -2.61515558e-01\n",
      " -2.46562913e-01  2.87766382e-02 -1.21909201e-01 -1.07997604e-01\n",
      "  4.38870378e-02 -6.70483485e-02 -1.99661955e-01 -5.22420295e-02\n",
      "  1.40746817e-01  1.41742015e-02 -7.05374703e-02  8.36063251e-02\n",
      " -5.62744617e-01 -3.18689197e-01 -7.36725181e-02 -1.02601886e-01\n",
      "  2.44000420e-01  1.00328431e-01  3.30250144e-01 -2.57627696e-01\n",
      "  2.78117120e-01 -5.72666638e-02 -2.02271137e-02 -1.36182981e-03]\n"
     ]
    }
   ],
   "source": [
    "# Vectorize each document\n",
    "num_categories = len(categories)\n",
    "number_of_documents = len(documents)\n",
    "X = numpy.zeros(shape=(number_of_documents, num_features)).astype(numpy.float32)\n",
    "Y = numpy.zeros(shape=(number_of_documents, 1)).astype(numpy.float32)\n",
    "\n",
    "empty_word = numpy.zeros(num_features).astype(numpy.float32)\n",
    "for i in range(number_of_documents):\n",
    "    doc = documents[i]\n",
    "    vec = d2v_model.infer_vector(doc, alpha=start_alpha, steps=infer_epoch)\n",
    "    if i == 1:\n",
    "        print(vec) \n",
    "    X[i, :] = numpy.array(vec)\n",
    "    Y[i, :] = labels[i]"
   ]
  },
  {
   "cell_type": "code",
   "execution_count": 67,
   "metadata": {},
   "outputs": [
    {
     "name": "stdout",
     "output_type": "stream",
     "text": [
      "Fitting 3 folds for each of 12 candidates, totalling 36 fits\n",
      "[CV] categorizer__learning_rate=0.1, categorizer__n_estimators=63 ....\n"
     ]
    },
    {
     "name": "stderr",
     "output_type": "stream",
     "text": [
      "C:\\ProgramData\\Anaconda3\\lib\\site-packages\\sklearn\\utils\\validation.py:578: DataConversionWarning: A column-vector y was passed when a 1d array was expected. Please change the shape of y to (n_samples, ), for example using ravel().\n",
      "  y = column_or_1d(y, warn=True)\n"
     ]
    },
    {
     "name": "stdout",
     "output_type": "stream",
     "text": [
      "[CV]  categorizer__learning_rate=0.1, categorizer__n_estimators=63, score=0.8694481830417228, total=  19.1s\n",
      "[CV] categorizer__learning_rate=0.1, categorizer__n_estimators=63 ....\n"
     ]
    },
    {
     "name": "stderr",
     "output_type": "stream",
     "text": [
      "[Parallel(n_jobs=1)]: Done   1 out of   1 | elapsed:   19.1s remaining:    0.0s\n",
      "C:\\ProgramData\\Anaconda3\\lib\\site-packages\\sklearn\\utils\\validation.py:578: DataConversionWarning: A column-vector y was passed when a 1d array was expected. Please change the shape of y to (n_samples, ), for example using ravel().\n",
      "  y = column_or_1d(y, warn=True)\n"
     ]
    },
    {
     "name": "stdout",
     "output_type": "stream",
     "text": [
      "[CV]  categorizer__learning_rate=0.1, categorizer__n_estimators=63, score=0.876010781671159, total=  18.6s\n",
      "[CV] categorizer__learning_rate=0.1, categorizer__n_estimators=63 ....\n"
     ]
    },
    {
     "name": "stderr",
     "output_type": "stream",
     "text": [
      "[Parallel(n_jobs=1)]: Done   2 out of   2 | elapsed:   37.8s remaining:    0.0s\n",
      "C:\\ProgramData\\Anaconda3\\lib\\site-packages\\sklearn\\utils\\validation.py:578: DataConversionWarning: A column-vector y was passed when a 1d array was expected. Please change the shape of y to (n_samples, ), for example using ravel().\n",
      "  y = column_or_1d(y, warn=True)\n"
     ]
    },
    {
     "name": "stdout",
     "output_type": "stream",
     "text": [
      "[CV]  categorizer__learning_rate=0.1, categorizer__n_estimators=63, score=0.9243243243243243, total=  22.4s\n",
      "[CV] categorizer__learning_rate=0.1, categorizer__n_estimators=127 ...\n"
     ]
    },
    {
     "name": "stderr",
     "output_type": "stream",
     "text": [
      "C:\\ProgramData\\Anaconda3\\lib\\site-packages\\sklearn\\utils\\validation.py:578: DataConversionWarning: A column-vector y was passed when a 1d array was expected. Please change the shape of y to (n_samples, ), for example using ravel().\n",
      "  y = column_or_1d(y, warn=True)\n"
     ]
    },
    {
     "name": "stdout",
     "output_type": "stream",
     "text": [
      "[CV]  categorizer__learning_rate=0.1, categorizer__n_estimators=127, score=0.8882907133243607, total=  44.4s\n",
      "[CV] categorizer__learning_rate=0.1, categorizer__n_estimators=127 ...\n"
     ]
    },
    {
     "name": "stderr",
     "output_type": "stream",
     "text": [
      "C:\\ProgramData\\Anaconda3\\lib\\site-packages\\sklearn\\utils\\validation.py:578: DataConversionWarning: A column-vector y was passed when a 1d array was expected. Please change the shape of y to (n_samples, ), for example using ravel().\n",
      "  y = column_or_1d(y, warn=True)\n"
     ]
    },
    {
     "name": "stdout",
     "output_type": "stream",
     "text": [
      "[CV]  categorizer__learning_rate=0.1, categorizer__n_estimators=127, score=0.9043126684636119, total=  46.8s\n",
      "[CV] categorizer__learning_rate=0.1, categorizer__n_estimators=127 ...\n"
     ]
    },
    {
     "name": "stderr",
     "output_type": "stream",
     "text": [
      "C:\\ProgramData\\Anaconda3\\lib\\site-packages\\sklearn\\utils\\validation.py:578: DataConversionWarning: A column-vector y was passed when a 1d array was expected. Please change the shape of y to (n_samples, ), for example using ravel().\n",
      "  y = column_or_1d(y, warn=True)\n"
     ]
    },
    {
     "name": "stdout",
     "output_type": "stream",
     "text": [
      "[CV]  categorizer__learning_rate=0.1, categorizer__n_estimators=127, score=0.9364864864864865, total= 1.1min\n",
      "[CV] categorizer__learning_rate=0.1, categorizer__n_estimators=255 ...\n"
     ]
    },
    {
     "name": "stderr",
     "output_type": "stream",
     "text": [
      "C:\\ProgramData\\Anaconda3\\lib\\site-packages\\sklearn\\utils\\validation.py:578: DataConversionWarning: A column-vector y was passed when a 1d array was expected. Please change the shape of y to (n_samples, ), for example using ravel().\n",
      "  y = column_or_1d(y, warn=True)\n"
     ]
    },
    {
     "name": "stdout",
     "output_type": "stream",
     "text": [
      "[CV]  categorizer__learning_rate=0.1, categorizer__n_estimators=255, score=0.8950201884253028, total= 1.6min\n",
      "[CV] categorizer__learning_rate=0.1, categorizer__n_estimators=255 ...\n"
     ]
    },
    {
     "name": "stderr",
     "output_type": "stream",
     "text": [
      "C:\\ProgramData\\Anaconda3\\lib\\site-packages\\sklearn\\utils\\validation.py:578: DataConversionWarning: A column-vector y was passed when a 1d array was expected. Please change the shape of y to (n_samples, ), for example using ravel().\n",
      "  y = column_or_1d(y, warn=True)\n"
     ]
    },
    {
     "name": "stdout",
     "output_type": "stream",
     "text": [
      "[CV]  categorizer__learning_rate=0.1, categorizer__n_estimators=255, score=0.9097035040431267, total= 1.7min\n",
      "[CV] categorizer__learning_rate=0.1, categorizer__n_estimators=255 ...\n"
     ]
    },
    {
     "name": "stderr",
     "output_type": "stream",
     "text": [
      "C:\\ProgramData\\Anaconda3\\lib\\site-packages\\sklearn\\utils\\validation.py:578: DataConversionWarning: A column-vector y was passed when a 1d array was expected. Please change the shape of y to (n_samples, ), for example using ravel().\n",
      "  y = column_or_1d(y, warn=True)\n"
     ]
    },
    {
     "name": "stdout",
     "output_type": "stream",
     "text": [
      "[CV]  categorizer__learning_rate=0.1, categorizer__n_estimators=255, score=0.9472972972972973, total= 1.5min\n",
      "[CV] categorizer__learning_rate=0.1, categorizer__n_estimators=511 ...\n"
     ]
    },
    {
     "name": "stderr",
     "output_type": "stream",
     "text": [
      "C:\\ProgramData\\Anaconda3\\lib\\site-packages\\sklearn\\utils\\validation.py:578: DataConversionWarning: A column-vector y was passed when a 1d array was expected. Please change the shape of y to (n_samples, ), for example using ravel().\n",
      "  y = column_or_1d(y, warn=True)\n"
     ]
    },
    {
     "name": "stdout",
     "output_type": "stream",
     "text": [
      "[CV]  categorizer__learning_rate=0.1, categorizer__n_estimators=511, score=0.8963660834454913, total= 1.4min\n",
      "[CV] categorizer__learning_rate=0.1, categorizer__n_estimators=511 ...\n"
     ]
    },
    {
     "name": "stderr",
     "output_type": "stream",
     "text": [
      "C:\\ProgramData\\Anaconda3\\lib\\site-packages\\sklearn\\utils\\validation.py:578: DataConversionWarning: A column-vector y was passed when a 1d array was expected. Please change the shape of y to (n_samples, ), for example using ravel().\n",
      "  y = column_or_1d(y, warn=True)\n"
     ]
    },
    {
     "name": "stdout",
     "output_type": "stream",
     "text": [
      "[CV]  categorizer__learning_rate=0.1, categorizer__n_estimators=511, score=0.9097035040431267, total= 1.4min\n",
      "[CV] categorizer__learning_rate=0.1, categorizer__n_estimators=511 ...\n"
     ]
    },
    {
     "name": "stderr",
     "output_type": "stream",
     "text": [
      "C:\\ProgramData\\Anaconda3\\lib\\site-packages\\sklearn\\utils\\validation.py:578: DataConversionWarning: A column-vector y was passed when a 1d array was expected. Please change the shape of y to (n_samples, ), for example using ravel().\n",
      "  y = column_or_1d(y, warn=True)\n"
     ]
    },
    {
     "name": "stdout",
     "output_type": "stream",
     "text": [
      "[CV]  categorizer__learning_rate=0.1, categorizer__n_estimators=511, score=0.9472972972972973, total= 1.5min\n",
      "[CV] categorizer__learning_rate=0.01, categorizer__n_estimators=63 ...\n"
     ]
    },
    {
     "name": "stderr",
     "output_type": "stream",
     "text": [
      "C:\\ProgramData\\Anaconda3\\lib\\site-packages\\sklearn\\utils\\validation.py:578: DataConversionWarning: A column-vector y was passed when a 1d array was expected. Please change the shape of y to (n_samples, ), for example using ravel().\n",
      "  y = column_or_1d(y, warn=True)\n"
     ]
    },
    {
     "name": "stdout",
     "output_type": "stream",
     "text": [
      "[CV]  categorizer__learning_rate=0.01, categorizer__n_estimators=63, score=0.7294751009421265, total=  22.9s\n",
      "[CV] categorizer__learning_rate=0.01, categorizer__n_estimators=63 ...\n"
     ]
    },
    {
     "name": "stderr",
     "output_type": "stream",
     "text": [
      "C:\\ProgramData\\Anaconda3\\lib\\site-packages\\sklearn\\utils\\validation.py:578: DataConversionWarning: A column-vector y was passed when a 1d array was expected. Please change the shape of y to (n_samples, ), for example using ravel().\n",
      "  y = column_or_1d(y, warn=True)\n"
     ]
    },
    {
     "name": "stdout",
     "output_type": "stream",
     "text": [
      "[CV]  categorizer__learning_rate=0.01, categorizer__n_estimators=63, score=0.6590296495956873, total=  18.2s\n",
      "[CV] categorizer__learning_rate=0.01, categorizer__n_estimators=63 ...\n"
     ]
    },
    {
     "name": "stderr",
     "output_type": "stream",
     "text": [
      "C:\\ProgramData\\Anaconda3\\lib\\site-packages\\sklearn\\utils\\validation.py:578: DataConversionWarning: A column-vector y was passed when a 1d array was expected. Please change the shape of y to (n_samples, ), for example using ravel().\n",
      "  y = column_or_1d(y, warn=True)\n"
     ]
    },
    {
     "name": "stdout",
     "output_type": "stream",
     "text": [
      "[CV]  categorizer__learning_rate=0.01, categorizer__n_estimators=63, score=0.7405405405405405, total=  18.7s\n",
      "[CV] categorizer__learning_rate=0.01, categorizer__n_estimators=127 ..\n"
     ]
    },
    {
     "name": "stderr",
     "output_type": "stream",
     "text": [
      "C:\\ProgramData\\Anaconda3\\lib\\site-packages\\sklearn\\utils\\validation.py:578: DataConversionWarning: A column-vector y was passed when a 1d array was expected. Please change the shape of y to (n_samples, ), for example using ravel().\n",
      "  y = column_or_1d(y, warn=True)\n"
     ]
    },
    {
     "name": "stdout",
     "output_type": "stream",
     "text": [
      "[CV]  categorizer__learning_rate=0.01, categorizer__n_estimators=127, score=0.7765814266487214, total=  32.7s\n",
      "[CV] categorizer__learning_rate=0.01, categorizer__n_estimators=127 ..\n"
     ]
    },
    {
     "name": "stderr",
     "output_type": "stream",
     "text": [
      "C:\\ProgramData\\Anaconda3\\lib\\site-packages\\sklearn\\utils\\validation.py:578: DataConversionWarning: A column-vector y was passed when a 1d array was expected. Please change the shape of y to (n_samples, ), for example using ravel().\n",
      "  y = column_or_1d(y, warn=True)\n"
     ]
    },
    {
     "name": "stdout",
     "output_type": "stream",
     "text": [
      "[CV]  categorizer__learning_rate=0.01, categorizer__n_estimators=127, score=0.738544474393531, total=  32.8s\n",
      "[CV] categorizer__learning_rate=0.01, categorizer__n_estimators=127 ..\n"
     ]
    },
    {
     "name": "stderr",
     "output_type": "stream",
     "text": [
      "C:\\ProgramData\\Anaconda3\\lib\\site-packages\\sklearn\\utils\\validation.py:578: DataConversionWarning: A column-vector y was passed when a 1d array was expected. Please change the shape of y to (n_samples, ), for example using ravel().\n",
      "  y = column_or_1d(y, warn=True)\n"
     ]
    },
    {
     "name": "stdout",
     "output_type": "stream",
     "text": [
      "[CV]  categorizer__learning_rate=0.01, categorizer__n_estimators=127, score=0.8027027027027027, total=  32.1s\n",
      "[CV] categorizer__learning_rate=0.01, categorizer__n_estimators=255 ..\n"
     ]
    },
    {
     "name": "stderr",
     "output_type": "stream",
     "text": [
      "C:\\ProgramData\\Anaconda3\\lib\\site-packages\\sklearn\\utils\\validation.py:578: DataConversionWarning: A column-vector y was passed when a 1d array was expected. Please change the shape of y to (n_samples, ), for example using ravel().\n",
      "  y = column_or_1d(y, warn=True)\n"
     ]
    },
    {
     "name": "stdout",
     "output_type": "stream",
     "text": [
      "[CV]  categorizer__learning_rate=0.01, categorizer__n_estimators=255, score=0.8209959623149394, total= 1.4min\n",
      "[CV] categorizer__learning_rate=0.01, categorizer__n_estimators=255 ..\n"
     ]
    },
    {
     "name": "stderr",
     "output_type": "stream",
     "text": [
      "C:\\ProgramData\\Anaconda3\\lib\\site-packages\\sklearn\\utils\\validation.py:578: DataConversionWarning: A column-vector y was passed when a 1d array was expected. Please change the shape of y to (n_samples, ), for example using ravel().\n",
      "  y = column_or_1d(y, warn=True)\n"
     ]
    },
    {
     "name": "stdout",
     "output_type": "stream",
     "text": [
      "[CV]  categorizer__learning_rate=0.01, categorizer__n_estimators=255, score=0.8274932614555256, total= 1.3min\n",
      "[CV] categorizer__learning_rate=0.01, categorizer__n_estimators=255 ..\n"
     ]
    },
    {
     "name": "stderr",
     "output_type": "stream",
     "text": [
      "C:\\ProgramData\\Anaconda3\\lib\\site-packages\\sklearn\\utils\\validation.py:578: DataConversionWarning: A column-vector y was passed when a 1d array was expected. Please change the shape of y to (n_samples, ), for example using ravel().\n",
      "  y = column_or_1d(y, warn=True)\n"
     ]
    },
    {
     "name": "stdout",
     "output_type": "stream",
     "text": [
      "[CV]  categorizer__learning_rate=0.01, categorizer__n_estimators=255, score=0.8770270270270271, total= 1.1min\n",
      "[CV] categorizer__learning_rate=0.01, categorizer__n_estimators=511 ..\n"
     ]
    },
    {
     "name": "stderr",
     "output_type": "stream",
     "text": [
      "C:\\ProgramData\\Anaconda3\\lib\\site-packages\\sklearn\\utils\\validation.py:578: DataConversionWarning: A column-vector y was passed when a 1d array was expected. Please change the shape of y to (n_samples, ), for example using ravel().\n",
      "  y = column_or_1d(y, warn=True)\n"
     ]
    },
    {
     "name": "stdout",
     "output_type": "stream",
     "text": [
      "[CV]  categorizer__learning_rate=0.01, categorizer__n_estimators=511, score=0.8586810228802153, total= 2.2min\n",
      "[CV] categorizer__learning_rate=0.01, categorizer__n_estimators=511 ..\n"
     ]
    },
    {
     "name": "stderr",
     "output_type": "stream",
     "text": [
      "C:\\ProgramData\\Anaconda3\\lib\\site-packages\\sklearn\\utils\\validation.py:578: DataConversionWarning: A column-vector y was passed when a 1d array was expected. Please change the shape of y to (n_samples, ), for example using ravel().\n",
      "  y = column_or_1d(y, warn=True)\n"
     ]
    },
    {
     "name": "stdout",
     "output_type": "stream",
     "text": [
      "[CV]  categorizer__learning_rate=0.01, categorizer__n_estimators=511, score=0.8773584905660378, total= 2.2min\n",
      "[CV] categorizer__learning_rate=0.01, categorizer__n_estimators=511 ..\n"
     ]
    },
    {
     "name": "stderr",
     "output_type": "stream",
     "text": [
      "C:\\ProgramData\\Anaconda3\\lib\\site-packages\\sklearn\\utils\\validation.py:578: DataConversionWarning: A column-vector y was passed when a 1d array was expected. Please change the shape of y to (n_samples, ), for example using ravel().\n",
      "  y = column_or_1d(y, warn=True)\n"
     ]
    },
    {
     "name": "stdout",
     "output_type": "stream",
     "text": [
      "[CV]  categorizer__learning_rate=0.01, categorizer__n_estimators=511, score=0.9121621621621622, total= 2.2min\n",
      "[CV] categorizer__learning_rate=0.001, categorizer__n_estimators=63 ..\n"
     ]
    },
    {
     "name": "stderr",
     "output_type": "stream",
     "text": [
      "C:\\ProgramData\\Anaconda3\\lib\\site-packages\\sklearn\\utils\\validation.py:578: DataConversionWarning: A column-vector y was passed when a 1d array was expected. Please change the shape of y to (n_samples, ), for example using ravel().\n",
      "  y = column_or_1d(y, warn=True)\n"
     ]
    },
    {
     "name": "stdout",
     "output_type": "stream",
     "text": [
      "[CV]  categorizer__learning_rate=0.001, categorizer__n_estimators=63, score=0.566621803499327, total=  15.2s\n",
      "[CV] categorizer__learning_rate=0.001, categorizer__n_estimators=63 ..\n"
     ]
    },
    {
     "name": "stderr",
     "output_type": "stream",
     "text": [
      "C:\\ProgramData\\Anaconda3\\lib\\site-packages\\sklearn\\utils\\validation.py:578: DataConversionWarning: A column-vector y was passed when a 1d array was expected. Please change the shape of y to (n_samples, ), for example using ravel().\n",
      "  y = column_or_1d(y, warn=True)\n"
     ]
    },
    {
     "name": "stdout",
     "output_type": "stream",
     "text": [
      "[CV]  categorizer__learning_rate=0.001, categorizer__n_estimators=63, score=0.5080862533692723, total=  15.9s\n",
      "[CV] categorizer__learning_rate=0.001, categorizer__n_estimators=63 ..\n"
     ]
    },
    {
     "name": "stderr",
     "output_type": "stream",
     "text": [
      "C:\\ProgramData\\Anaconda3\\lib\\site-packages\\sklearn\\utils\\validation.py:578: DataConversionWarning: A column-vector y was passed when a 1d array was expected. Please change the shape of y to (n_samples, ), for example using ravel().\n",
      "  y = column_or_1d(y, warn=True)\n"
     ]
    },
    {
     "name": "stdout",
     "output_type": "stream",
     "text": [
      "[CV]  categorizer__learning_rate=0.001, categorizer__n_estimators=63, score=0.5756756756756757, total=  15.7s\n",
      "[CV] categorizer__learning_rate=0.001, categorizer__n_estimators=127 .\n"
     ]
    },
    {
     "name": "stderr",
     "output_type": "stream",
     "text": [
      "C:\\ProgramData\\Anaconda3\\lib\\site-packages\\sklearn\\utils\\validation.py:578: DataConversionWarning: A column-vector y was passed when a 1d array was expected. Please change the shape of y to (n_samples, ), for example using ravel().\n",
      "  y = column_or_1d(y, warn=True)\n"
     ]
    },
    {
     "name": "stdout",
     "output_type": "stream",
     "text": [
      "[CV]  categorizer__learning_rate=0.001, categorizer__n_estimators=127, score=0.6164199192462988, total=  32.1s\n",
      "[CV] categorizer__learning_rate=0.001, categorizer__n_estimators=127 .\n"
     ]
    },
    {
     "name": "stderr",
     "output_type": "stream",
     "text": [
      "C:\\ProgramData\\Anaconda3\\lib\\site-packages\\sklearn\\utils\\validation.py:578: DataConversionWarning: A column-vector y was passed when a 1d array was expected. Please change the shape of y to (n_samples, ), for example using ravel().\n",
      "  y = column_or_1d(y, warn=True)\n"
     ]
    },
    {
     "name": "stdout",
     "output_type": "stream",
     "text": [
      "[CV]  categorizer__learning_rate=0.001, categorizer__n_estimators=127, score=0.5404312668463612, total=  31.7s\n",
      "[CV] categorizer__learning_rate=0.001, categorizer__n_estimators=127 .\n"
     ]
    },
    {
     "name": "stderr",
     "output_type": "stream",
     "text": [
      "C:\\ProgramData\\Anaconda3\\lib\\site-packages\\sklearn\\utils\\validation.py:578: DataConversionWarning: A column-vector y was passed when a 1d array was expected. Please change the shape of y to (n_samples, ), for example using ravel().\n",
      "  y = column_or_1d(y, warn=True)\n"
     ]
    },
    {
     "name": "stdout",
     "output_type": "stream",
     "text": [
      "[CV]  categorizer__learning_rate=0.001, categorizer__n_estimators=127, score=0.65, total=  32.3s\n",
      "[CV] categorizer__learning_rate=0.001, categorizer__n_estimators=255 .\n"
     ]
    },
    {
     "name": "stderr",
     "output_type": "stream",
     "text": [
      "C:\\ProgramData\\Anaconda3\\lib\\site-packages\\sklearn\\utils\\validation.py:578: DataConversionWarning: A column-vector y was passed when a 1d array was expected. Please change the shape of y to (n_samples, ), for example using ravel().\n",
      "  y = column_or_1d(y, warn=True)\n"
     ]
    },
    {
     "name": "stdout",
     "output_type": "stream",
     "text": [
      "[CV]  categorizer__learning_rate=0.001, categorizer__n_estimators=255, score=0.6460296096904441, total= 1.1min\n",
      "[CV] categorizer__learning_rate=0.001, categorizer__n_estimators=255 .\n"
     ]
    },
    {
     "name": "stderr",
     "output_type": "stream",
     "text": [
      "C:\\ProgramData\\Anaconda3\\lib\\site-packages\\sklearn\\utils\\validation.py:578: DataConversionWarning: A column-vector y was passed when a 1d array was expected. Please change the shape of y to (n_samples, ), for example using ravel().\n",
      "  y = column_or_1d(y, warn=True)\n"
     ]
    },
    {
     "name": "stdout",
     "output_type": "stream",
     "text": [
      "[CV]  categorizer__learning_rate=0.001, categorizer__n_estimators=255, score=0.5889487870619946, total= 1.1min\n",
      "[CV] categorizer__learning_rate=0.001, categorizer__n_estimators=255 .\n"
     ]
    },
    {
     "name": "stderr",
     "output_type": "stream",
     "text": [
      "C:\\ProgramData\\Anaconda3\\lib\\site-packages\\sklearn\\utils\\validation.py:578: DataConversionWarning: A column-vector y was passed when a 1d array was expected. Please change the shape of y to (n_samples, ), for example using ravel().\n",
      "  y = column_or_1d(y, warn=True)\n"
     ]
    },
    {
     "name": "stdout",
     "output_type": "stream",
     "text": [
      "[CV]  categorizer__learning_rate=0.001, categorizer__n_estimators=255, score=0.6837837837837838, total= 1.1min\n",
      "[CV] categorizer__learning_rate=0.001, categorizer__n_estimators=511 .\n"
     ]
    },
    {
     "name": "stderr",
     "output_type": "stream",
     "text": [
      "C:\\ProgramData\\Anaconda3\\lib\\site-packages\\sklearn\\utils\\validation.py:578: DataConversionWarning: A column-vector y was passed when a 1d array was expected. Please change the shape of y to (n_samples, ), for example using ravel().\n",
      "  y = column_or_1d(y, warn=True)\n"
     ]
    },
    {
     "name": "stdout",
     "output_type": "stream",
     "text": [
      "[CV]  categorizer__learning_rate=0.001, categorizer__n_estimators=511, score=0.7039030955585465, total= 2.1min\n",
      "[CV] categorizer__learning_rate=0.001, categorizer__n_estimators=511 .\n"
     ]
    },
    {
     "name": "stderr",
     "output_type": "stream",
     "text": [
      "C:\\ProgramData\\Anaconda3\\lib\\site-packages\\sklearn\\utils\\validation.py:578: DataConversionWarning: A column-vector y was passed when a 1d array was expected. Please change the shape of y to (n_samples, ), for example using ravel().\n",
      "  y = column_or_1d(y, warn=True)\n"
     ]
    },
    {
     "name": "stdout",
     "output_type": "stream",
     "text": [
      "[CV]  categorizer__learning_rate=0.001, categorizer__n_estimators=511, score=0.6401617250673854, total= 2.1min\n",
      "[CV] categorizer__learning_rate=0.001, categorizer__n_estimators=511 .\n"
     ]
    },
    {
     "name": "stderr",
     "output_type": "stream",
     "text": [
      "C:\\ProgramData\\Anaconda3\\lib\\site-packages\\sklearn\\utils\\validation.py:578: DataConversionWarning: A column-vector y was passed when a 1d array was expected. Please change the shape of y to (n_samples, ), for example using ravel().\n",
      "  y = column_or_1d(y, warn=True)\n"
     ]
    },
    {
     "name": "stdout",
     "output_type": "stream",
     "text": [
      "[CV]  categorizer__learning_rate=0.001, categorizer__n_estimators=511, score=0.7337837837837838, total= 2.1min\n"
     ]
    },
    {
     "name": "stderr",
     "output_type": "stream",
     "text": [
      "[Parallel(n_jobs=1)]: Done  36 out of  36 | elapsed: 37.8min finished\n",
      "C:\\ProgramData\\Anaconda3\\lib\\site-packages\\sklearn\\utils\\validation.py:578: DataConversionWarning: A column-vector y was passed when a 1d array was expected. Please change the shape of y to (n_samples, ), for example using ravel().\n",
      "  y = column_or_1d(y, warn=True)\n"
     ]
    },
    {
     "name": "stdout",
     "output_type": "stream",
     "text": [
      "Accuracy: 0.918\n"
     ]
    }
   ],
   "source": [
    "# Gradient Boosting\n",
    "#model.fit(X, Y)\n",
    "ctg = sklearn.ensemble.GradientBoostingClassifier()\n",
    "model_selection_mdl = sklearn.model_selection\n",
    "pipeline_mdl = sklearn.pipeline\n",
    "pipeline_list = [(\"categorizer\", ctg)]\n",
    "pipeline = pipeline_mdl.Pipeline(pipeline_list)\n",
    "param_grid = [\n",
    "    {\n",
    "\n",
    "        'categorizer__n_estimators': [63, 127, 255, 511],\n",
    "        'categorizer__learning_rate':[0.1, 0.01, 0.001],\n",
    "    }\n",
    "]\n",
    "\n",
    "grid_searcher = model_selection_mdl.GridSearchCV(pipeline, cv=3, n_jobs=1, param_grid=param_grid, verbose =3)\n",
    "grid_searcher.fit(X, Y)\n",
    "#scores = model_selection_mdl.cross_val_score(model, X, Y, cv=5)\n",
    "#accuracy = scores.mean()\n",
    "\n",
    "accuracy = grid_searcher.best_score_\n",
    "print(\"Accuracy: %.3f\" % (accuracy))"
   ]
  },
  {
   "cell_type": "code",
   "execution_count": null,
   "metadata": {},
   "outputs": [],
   "source": []
  }
 ],
 "metadata": {
  "kernelspec": {
   "display_name": "Python 3",
   "language": "python",
   "name": "python3"
  },
  "language_info": {
   "codemirror_mode": {
    "name": "ipython",
    "version": 3
   },
   "file_extension": ".py",
   "mimetype": "text/x-python",
   "name": "python",
   "nbconvert_exporter": "python",
   "pygments_lexer": "ipython3",
   "version": "3.6.4"
  }
 },
 "nbformat": 4,
 "nbformat_minor": 2
}
